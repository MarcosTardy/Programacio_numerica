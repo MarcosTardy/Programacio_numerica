{
 "cells": [
  {
   "cell_type": "markdown",
   "id": "11623948",
   "metadata": {},
   "source": [
    "## Exercici 1\n"
   ]
  },
  {
   "cell_type": "code",
   "execution_count": 1,
   "id": "b2bc376f",
   "metadata": {},
   "outputs": [
    {
     "name": "stdout",
     "output_type": "stream",
     "text": [
      "La mitjana és:  1.0\n",
      "La mediana és:  1.0\n",
      "La desviació típica és:  0.4472135954999579\n",
      "La variança és:  0.2\n",
      "La moda és:  ModeResult(mode=array([1]), count=array([8]))\n",
      "None\n"
     ]
    }
   ],
   "source": [
    "#Crea una funció que donat un Array d’una dimensió, et faci un resum estadístic bàsic de les dades. Si detecta que l’array té més d’una dimensió, ha de mostrar un missatge d’error.\n",
    "import numpy as np\n",
    "from scipy import stats\n",
    "from numpy import random\n",
    "def resum_estadistic(array):\n",
    "    if array.ndim==1:\n",
    "        print(\"La mitjana és: \", array.mean())\n",
    "        print(\"La mediana és: \", np.median(array))\n",
    "        print(\"La desviació típica és: \", np.std(array))\n",
    "        print(\"La variança és: \", np.var(array))\n",
    "        print(\"La moda és: \", stats.mode(array))\n",
    "        \n",
    "        \n",
    "        \n",
    "        \n",
    "    else:\n",
    "        print(\"Error. Només pot tenir una dimensió\")\n",
    "\n",
    "arr=np.array([0,1,1,1,1,1,1,1,1,2])\n",
    "print(resum_estadistic(arr))"
   ]
  },
  {
   "cell_type": "markdown",
   "id": "8a87b344",
   "metadata": {},
   "source": [
    "## Exercici 2\n"
   ]
  },
  {
   "cell_type": "code",
   "execution_count": 2,
   "id": "2b689b45",
   "metadata": {},
   "outputs": [
    {
     "name": "stdout",
     "output_type": "stream",
     "text": [
      "He generat una matriu de 5 x 5 amb numeros aleatoris del 0 al 100.\n",
      "[[ 5 23 76 16  6]\n",
      " [45 23 83 69 14]\n",
      " [51 50 14 88 49]\n",
      " [36 97  6 50 64]\n",
      " [53 58  4 86 59]]\n"
     ]
    }
   ],
   "source": [
    "#Crea una funció que et generi un quadrat NxN de nombres aleatoris entre el 0 i el 100.\n",
    "def n_aleatoris(x,y)\n",
    "    x = random.randint(100, size=(x, y))\n",
    "    print(\"He generat una matriu de 5 x 5 amb numeros aleatoris del 0 al 100.\")\n",
    "    print(x)\n",
    "fila"
   ]
  },
  {
   "cell_type": "markdown",
   "id": "6e2b9ffe",
   "metadata": {},
   "source": [
    "## Exercici 3\n"
   ]
  },
  {
   "cell_type": "code",
   "execution_count": 3,
   "id": "a5e82b1b",
   "metadata": {},
   "outputs": [
    {
     "name": "stdout",
     "output_type": "stream",
     "text": [
      "Els totals per fila son:  [12, 35]\n",
      "Els totals per columna son:  [[10 10  9  9  9]]\n",
      "None\n"
     ]
    }
   ],
   "source": [
    "#Crea una funció que donada una taula de dues dimensions (NxM), et calculi els totals per fila i els totals per columna.\n",
    "dades=np.array([[1,2,2,3,4],[9,8,7,6,5]])\n",
    "\n",
    "def suma(arr):\n",
    "    if arr.ndim==2:\n",
    "        totals_fila=[]\n",
    "        for x in arr:\n",
    "            totals_fila.append(sum(x))\n",
    "        print(\"Els totals per fila son: \", totals_fila)\n",
    "        \n",
    "        totals_columna=np.sum(arr,axis=0,keepdims=True)\n",
    "        print(\"Els totals per columna son: \", totals_columna)\n",
    "    \n",
    "    else: \n",
    "        print(\"Error. Ha de tenir dos dimensions.\")\n",
    "    \n",
    "print(suma(dades))"
   ]
  },
  {
   "cell_type": "markdown",
   "id": "31134e45",
   "metadata": {},
   "source": [
    "## Exercici 4"
   ]
  },
  {
   "cell_type": "code",
   "execution_count": 4,
   "id": "393b1038",
   "metadata": {},
   "outputs": [
    {
     "name": "stdout",
     "output_type": "stream",
     "text": [
      "El coeficient de correlació és: \n",
      "[[ 1.         -0.97072534]\n",
      " [-0.97072534  1.        ]]\n"
     ]
    }
   ],
   "source": [
    "#Implementa manualment una funció que calculi el coeficient de correlació. Informa-te'n sobre els seus usos i interpretació.\n",
    "dades=np.array([[1,2,2,3,4],[9,8,7,6,5]])\n",
    "def calcula_corr(llista):\n",
    "    coef_corr=np.corrcoef(llista)\n",
    "    return (coef_corr)\n",
    "print(\"El coeficient de correlació és: \")\n",
    "print(calcula_corr(dades))\n",
    "    \n",
    "#El coef de correlació serveix per saber si les dades d'un vector estan relacionades amb les d'un altre vector. Si quant les dades del primer vector aumenten i al mateix temps les dades del segon vector també ho fan, es diu que estan directament relacionades. Si passa al contrari es que estan inversament relacionades.\n",
    "#En el meu cas, els dos vectors de la llista de dos dimensions son inversament proporcionals ja que practicament és -1 la correlació."
   ]
  },
  {
   "cell_type": "code",
   "execution_count": null,
   "id": "1e595938",
   "metadata": {},
   "outputs": [],
   "source": []
  }
 ],
 "metadata": {
  "kernelspec": {
   "display_name": "Python 3",
   "language": "python",
   "name": "python3"
  },
  "language_info": {
   "codemirror_mode": {
    "name": "ipython",
    "version": 3
   },
   "file_extension": ".py",
   "mimetype": "text/x-python",
   "name": "python",
   "nbconvert_exporter": "python",
   "pygments_lexer": "ipython3",
   "version": "3.8.8"
  }
 },
 "nbformat": 4,
 "nbformat_minor": 5
}
